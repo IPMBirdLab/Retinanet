{
 "cells": [
  {
   "cell_type": "code",
   "execution_count": null,
   "id": "sized-finish",
   "metadata": {},
   "outputs": [],
   "source": [
    "%config Completer.use_jedi = False"
   ]
  },
  {
   "cell_type": "markdown",
   "id": "regulated-retirement",
   "metadata": {},
   "source": [
    "## Train"
   ]
  },
  {
   "cell_type": "code",
   "execution_count": null,
   "id": "stuck-lobby",
   "metadata": {},
   "outputs": [],
   "source": [
    "!PYTHONPATH=$(pwd) python ./scripts/retinanet_train.py --lr 0.00001 --max_epoch 100 --batch_size 4 --tag base_retinanet_pretrained --log_dir $(pwd)/experiments --train_percent .7 --use_p_of_data 1 --data_dir $(pwd)/../dataset"
   ]
  },
  {
   "cell_type": "code",
   "execution_count": null,
   "id": "dominican-baker",
   "metadata": {},
   "outputs": [],
   "source": [
    "!pwd"
   ]
  },
  {
   "cell_type": "code",
   "execution_count": null,
   "id": "chubby-coordinate",
   "metadata": {},
   "outputs": [],
   "source": [
    "import torchvision\n",
    "import torch"
   ]
  },
  {
   "cell_type": "markdown",
   "id": "threatened-benefit",
   "metadata": {},
   "source": [
    "## Dataset"
   ]
  },
  {
   "cell_type": "code",
   "execution_count": null,
   "id": "actual-donor",
   "metadata": {},
   "outputs": [],
   "source": [
    "from torch.utils.data import Dataset, DataLoader\n",
    "import os\n",
    "import cv2\n",
    "from retinanet.datasets.bird import BirdDataset"
   ]
  },
  {
   "cell_type": "code",
   "execution_count": null,
   "id": "growing-yahoo",
   "metadata": {},
   "outputs": [],
   "source": [
    "ds_notf = BirdDataset(image_dir=\"../dataset/data\", annotations_dir=\"../dataset/ann\")"
   ]
  },
  {
   "cell_type": "code",
   "execution_count": null,
   "id": "pleased-iraqi",
   "metadata": {},
   "outputs": [],
   "source": [
    "import matplotlib.pyplot as plt\n",
    "%matplotlib inline"
   ]
  },
  {
   "cell_type": "code",
   "execution_count": null,
   "id": "small-thanks",
   "metadata": {},
   "outputs": [],
   "source": [
    "item = ds_notf[1]\n",
    "for box in item[1][\"boxes\"]:\n",
    "    cv2.rectangle(item[0], (box[0], box[1]), (box[2], box[3]), (0, 0, 255), 2)\n",
    "plt.imshow(item[0])\n",
    "plt.show()"
   ]
  },
  {
   "cell_type": "code",
   "execution_count": null,
   "id": "recreational-joining",
   "metadata": {},
   "outputs": [],
   "source": [
    "from retinanet.datasets.transforms import *\n",
    "from retinanet.datasets.utils import TransformDatasetWrapper"
   ]
  },
  {
   "cell_type": "code",
   "execution_count": null,
   "id": "defensive-march",
   "metadata": {},
   "outputs": [],
   "source": [
    "transform = Compose(\n",
    "    [\n",
    "        ToTensor(),\n",
    "        Normalize([0.485, 0.456, 0.406], [0.229, 0.224, 0.225]),\n",
    "    ]\n",
    ")"
   ]
  },
  {
   "cell_type": "code",
   "execution_count": null,
   "id": "random-ballet",
   "metadata": {},
   "outputs": [],
   "source": [
    "ds = TransformDatasetWrapper(ds_notf, transform)"
   ]
  },
  {
   "cell_type": "markdown",
   "id": "modified-expansion",
   "metadata": {},
   "source": [
    "## Evaluation"
   ]
  },
  {
   "cell_type": "code",
   "execution_count": null,
   "id": "traditional-insurance",
   "metadata": {},
   "outputs": [],
   "source": [
    "from retinanet.model.detection.retinanet import retinanet_resnet50_fpn"
   ]
  },
  {
   "cell_type": "code",
   "execution_count": null,
   "id": "sophisticated-dryer",
   "metadata": {},
   "outputs": [],
   "source": [
    "model = retinanet_resnet50_fpn(num_classes=2, pretrained=False, pretrained_backbone=False)"
   ]
  },
  {
   "cell_type": "code",
   "execution_count": null,
   "id": "labeled-automation",
   "metadata": {},
   "outputs": [],
   "source": [
    "model.load_state_dict(torch.load(\"/workspace8/RetinaNet/experiments/checkpoints/chpt_base_retinanet.pth\"))"
   ]
  },
  {
   "cell_type": "code",
   "execution_count": null,
   "id": "hungry-editing",
   "metadata": {},
   "outputs": [],
   "source": [
    "model.eval()\n",
    "\n",
    "predicted = model([ds[2][0]])"
   ]
  },
  {
   "cell_type": "code",
   "execution_count": null,
   "id": "anticipated-gardening",
   "metadata": {},
   "outputs": [],
   "source": [
    "predicted"
   ]
  },
  {
   "cell_type": "code",
   "execution_count": null,
   "id": "optional-bunny",
   "metadata": {},
   "outputs": [],
   "source": [
    "keep = torchvision.ops.nms(predicted[0][\"boxes\"], predicted[0][\"scores\"], 0.5)"
   ]
  },
  {
   "cell_type": "code",
   "execution_count": null,
   "id": "polyphonic-observer",
   "metadata": {},
   "outputs": [],
   "source": [
    "item = ds_notf[2]\n",
    "img = item[0]\n",
    "oboxes = item[1][\"boxes\"]\n",
    "\n",
    "keep = keep.numpy()\n",
    "boxes = list(np.floor(predicted[0][\"boxes\"].detach().numpy()[keep]))\n",
    "scores = list(predicted[0][\"scores\"].detach().numpy()[keep])\n",
    "\n",
    "print(len(oboxes))\n",
    "for box, score in zip(boxes, scores):\n",
    "    if score > 0.2:\n",
    "        cv2.rectangle(img, (int(box[0]), int(box[1])), (int(box[2]), int(box[3])), (0, 0, 255), 2)\n",
    "        \n",
    "plt.imshow(img,cmap='gray')\n",
    "plt.show()"
   ]
  }
 ],
 "metadata": {
  "kernelspec": {
   "display_name": "Python 3",
   "language": "python",
   "name": "python3"
  },
  "language_info": {
   "codemirror_mode": {
    "name": "ipython",
    "version": 3
   },
   "file_extension": ".py",
   "mimetype": "text/x-python",
   "name": "python",
   "nbconvert_exporter": "python",
   "pygments_lexer": "ipython3",
   "version": "3.6.8"
  }
 },
 "nbformat": 4,
 "nbformat_minor": 5
}
