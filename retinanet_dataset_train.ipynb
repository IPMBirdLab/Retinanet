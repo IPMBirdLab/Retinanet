{
 "cells": [
  {
   "cell_type": "code",
   "execution_count": null,
   "id": "acquired-tennis",
   "metadata": {},
   "outputs": [],
   "source": [
    "%config Completer.use_jedi = False"
   ]
  },
  {
   "cell_type": "markdown",
   "id": "competent-groove",
   "metadata": {},
   "source": [
    "## Train"
   ]
  },
  {
   "cell_type": "markdown",
   "id": "toxic-romania",
   "metadata": {},
   "source": [
    "#### First we train the default RetinaNet model on Detection data"
   ]
  },
  {
   "cell_type": "code",
   "execution_count": null,
   "id": "cosmetic-neighbor",
   "metadata": {
    "tags": []
   },
   "outputs": [],
   "source": [
    "!PYTHONPATH=$(pwd) python ./scripts/retinanet_train.py --lr 0.00001 --max_epoch 100 --batch_size 4 --tag retinanet_with_img_cls_bboxes --log_dir $(pwd)/experiments --train_percent .7 --use_p_of_data 1 --data_dir $(pwd)/../dataset"
   ]
  },
  {
   "cell_type": "markdown",
   "id": "threaded-mainstream",
   "metadata": {},
   "source": [
    "#### Then we train the feature extraction pyramid network on a image level classification task"
   ]
  },
  {
   "cell_type": "code",
   "execution_count": null,
   "id": "intellectual-danger",
   "metadata": {},
   "outputs": [],
   "source": [
    "!pip install py3nvml"
   ]
  },
  {
   "cell_type": "code",
   "execution_count": null,
   "id": "reasonable-century",
   "metadata": {},
   "outputs": [],
   "source": [
    "# For GPU mamory trace use this instead of the cell bellow and uncomment the sys.trace... line in the script\n",
    "!PYTHONPATH=$(pwd) CUDA_VISIBLE_DEVICES=0 GPU_DEBUG=0 python ./scripts/image_cls_train.py --lr 0.0001 --max_epoch 100 --batch_size 4 --tag retinanet_with_img_cls --pretrain $(pwd)/experiments/checkpoints/best_chpt_retinanet_with_img_cls_bboxes.pth --train_percent .85 --use_p_of_data 1 --data_dir $(pwd)/../data/train --log_dir $(pwd)/experiments"
   ]
  },
  {
   "cell_type": "code",
   "execution_count": null,
   "id": "emotional-luxury",
   "metadata": {},
   "outputs": [],
   "source": [
    "!PYTHONPATH=$(pwd) python ./scripts/image_cls_train.py --lr 0.0001 --max_epoch 100 --batch_size 8 --tag retinanet_with_img_cls_images --pretrain $(pwd)/experiments/checkpoints/best_chpt_retinanet_with_img_cls_bboxes.pth --train_percent .85 --use_p_of_data 1 --data_dir $(pwd)/../data/train --log_dir $(pwd)/experiments"
   ]
  },
  {
   "cell_type": "markdown",
   "id": "cardiac-weather",
   "metadata": {},
   "source": [
    "#### Now, finetuning on detection should give better results"
   ]
  },
  {
   "cell_type": "code",
   "execution_count": null,
   "id": "humanitarian-acting",
   "metadata": {},
   "outputs": [],
   "source": [
    "!PYTHONPATH=$(pwd) python ./scripts/retinanet_train.py --lr 0.00001 --max_epoch 100 --batch_size 4 --tag retinanet_with_img_cls_bboxes_fineyune_after_cls --pretrain $(pwd)/experiments/checkpoints/best_chpt_retinanet_with_img_cls_images.pth --log_dir $(pwd)/experiments --train_percent .7 --use_p_of_data 1 --data_dir $(pwd)/../dataset"
   ]
  },
  {
   "cell_type": "code",
   "execution_count": null,
   "id": "broadband-fisher",
   "metadata": {},
   "outputs": [],
   "source": [
    "!pwd"
   ]
  },
  {
   "cell_type": "code",
   "execution_count": null,
   "id": "frank-nurse",
   "metadata": {},
   "outputs": [],
   "source": [
    "!nvidia-smi"
   ]
  },
  {
   "cell_type": "code",
   "execution_count": null,
   "id": "innocent-tracker",
   "metadata": {},
   "outputs": [],
   "source": [
    "import torchvision\n",
    "import torch"
   ]
  },
  {
   "cell_type": "markdown",
   "id": "economic-authority",
   "metadata": {},
   "source": [
    "## Dataset"
   ]
  },
  {
   "cell_type": "code",
   "execution_count": null,
   "id": "loving-deficit",
   "metadata": {},
   "outputs": [],
   "source": [
    "from torch.utils.data import Dataset, DataLoader\n",
    "import os\n",
    "import cv2\n",
    "from retinanet.datasets.bird import BirdDetection"
   ]
  },
  {
   "cell_type": "code",
   "execution_count": null,
   "id": "capital-replication",
   "metadata": {},
   "outputs": [],
   "source": [
    "ds_notf = BirdDetection(image_dir=\"../dataset/data\", annotations_dir=\"../dataset/ann\")"
   ]
  },
  {
   "cell_type": "code",
   "execution_count": null,
   "id": "pretty-consultancy",
   "metadata": {},
   "outputs": [],
   "source": [
    "import matplotlib.pyplot as plt\n",
    "%matplotlib inline"
   ]
  },
  {
   "cell_type": "code",
   "execution_count": null,
   "id": "weighted-dictionary",
   "metadata": {},
   "outputs": [],
   "source": [
    "item = ds_notf[1]\n",
    "for box in item[1][\"boxes\"]:\n",
    "    cv2.rectangle(item[0], (box[0], box[1]), (box[2], box[3]), (0, 0, 255), 2)\n",
    "plt.imshow(item[0])\n",
    "plt.show()"
   ]
  },
  {
   "cell_type": "code",
   "execution_count": null,
   "id": "genetic-failing",
   "metadata": {},
   "outputs": [],
   "source": [
    "from retinanet.datasets.transforms import *\n",
    "from retinanet.datasets.utils import TransformDatasetWrapper"
   ]
  },
  {
   "cell_type": "code",
   "execution_count": null,
   "id": "entertaining-edward",
   "metadata": {},
   "outputs": [],
   "source": [
    "transform = Compose(\n",
    "    [\n",
    "        ToTensor(),\n",
    "        Normalize([0.485, 0.456, 0.406], [0.229, 0.224, 0.225]),\n",
    "    ]\n",
    ")"
   ]
  },
  {
   "cell_type": "code",
   "execution_count": null,
   "id": "surrounded-sustainability",
   "metadata": {},
   "outputs": [],
   "source": [
    "ds = TransformDatasetWrapper(ds_notf, transform)"
   ]
  },
  {
   "cell_type": "markdown",
   "id": "revolutionary-breast",
   "metadata": {},
   "source": [
    "## Evaluation"
   ]
  },
  {
   "cell_type": "code",
   "execution_count": null,
   "id": "available-explosion",
   "metadata": {},
   "outputs": [],
   "source": [
    "from retinanet.model.detection.retinanet import retinanet_resnet50_fpn"
   ]
  },
  {
   "cell_type": "code",
   "execution_count": null,
   "id": "premium-legislature",
   "metadata": {},
   "outputs": [],
   "source": [
    "model = retinanet_resnet50_fpn(num_classes=2, pretrained=False, pretrained_backbone=False)"
   ]
  },
  {
   "cell_type": "code",
   "execution_count": null,
   "id": "talented-pixel",
   "metadata": {},
   "outputs": [],
   "source": [
    "model.load_state_dict(torch.load(\"/workspace8/RetinaNet/experiments/checkpoints/best_chpt_retinanet_with_img_cls_bboxes_fineyune_after_cls.pth\"))"
   ]
  },
  {
   "cell_type": "code",
   "execution_count": null,
   "id": "forced-electricity",
   "metadata": {},
   "outputs": [],
   "source": [
    "idx = 10"
   ]
  },
  {
   "cell_type": "code",
   "execution_count": null,
   "id": "behind-trinidad",
   "metadata": {},
   "outputs": [],
   "source": [
    "model.eval()\n",
    "\n",
    "predicted = model([ds[idx][0]])"
   ]
  },
  {
   "cell_type": "code",
   "execution_count": null,
   "id": "intended-security",
   "metadata": {},
   "outputs": [],
   "source": [
    "keep = torchvision.ops.nms(predicted[0][\"boxes\"], predicted[0][\"scores\"], 0.0)"
   ]
  },
  {
   "cell_type": "code",
   "execution_count": null,
   "id": "instructional-father",
   "metadata": {},
   "outputs": [],
   "source": [
    "item = ds_notf[idx]\n",
    "img = item[0]\n",
    "oboxes = item[1][\"boxes\"]\n",
    "\n",
    "keep = keep.numpy()\n",
    "boxes = list(np.floor(predicted[0][\"boxes\"].detach().numpy()[keep]))\n",
    "scores = list(predicted[0][\"scores\"].detach().numpy()[keep])\n",
    "\n",
    "print(len(oboxes))\n",
    "for box, score in zip(boxes, scores):\n",
    "    if score > 0.2:\n",
    "        cv2.rectangle(img, (int(box[0]), int(box[1])), (int(box[2]), int(box[3])), (0, 0, 255), 2)\n",
    "        \n",
    "plt.imshow(img,cmap='gray')\n",
    "plt.show()"
   ]
  }
 ],
 "metadata": {
  "kernelspec": {
   "display_name": "Python 3",
   "language": "python",
   "name": "python3"
  },
  "language_info": {
   "codemirror_mode": {
    "name": "ipython",
    "version": 3
   },
   "file_extension": ".py",
   "mimetype": "text/x-python",
   "name": "python",
   "nbconvert_exporter": "python",
   "pygments_lexer": "ipython3",
   "version": "3.6.8"
  }
 },
 "nbformat": 4,
 "nbformat_minor": 5
}
