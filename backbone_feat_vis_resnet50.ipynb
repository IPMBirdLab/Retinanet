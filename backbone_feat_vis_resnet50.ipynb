{
 "cells": [
  {
   "cell_type": "code",
   "execution_count": null,
   "metadata": {},
   "outputs": [],
   "source": [
    "import torch\n",
    "import torchvision\n",
    "import torch.nn.functional as F\n",
    "\n",
    "\n",
    "from retinanet.model.detection.retinanet import retinanet_resnet50_fpn\n",
    "from retinanet.model.detection.transform import GeneralizedRCNNTransform\n",
    "\n",
    "from retinanet.datasets.bird import BirdDetection\n",
    "from retinanet.datasets.transforms import *\n",
    "from retinanet.datasets.utils import TransformDatasetWrapper\n",
    "\n",
    "import os\n",
    "import cv2\n",
    "import random\n",
    "import numpy as np\n",
    "import matplotlib.pyplot as plt\n",
    "\n",
    "%matplotlib inline"
   ]
  },
  {
   "cell_type": "code",
   "execution_count": null,
   "metadata": {},
   "outputs": [],
   "source": [
    "import sys\n",
    "sys.path.insert(0, \"/workspace8/video_toolkit/\")\n",
    "from VideoToolkit.tools import rescal_to_image, get_cv_resize_function\n",
    "resize_func = get_cv_resize_function()"
   ]
  },
  {
   "cell_type": "code",
   "execution_count": null,
   "metadata": {},
   "outputs": [],
   "source": [
    "def get_features(model, images, device=None):\n",
    "    transform = GeneralizedRCNNTransform(800, 1333, [0.485, 0.456, 0.406], [0.229, 0.224, 0.225])\n",
    "    images, _ = transform(images, None)\n",
    "    \n",
    "    # get the features from the backbone\n",
    "    features = model.backbone(images.tensors.to(device))\n",
    "    \n",
    "    if isinstance(features, torch.Tensor):\n",
    "        features = OrderedDict([(\"0\", features)])\n",
    "\n",
    "    features = list(features.values())\n",
    "    features = [feat.mean(1) for feat in features]\n",
    "    return features"
   ]
  },
  {
   "cell_type": "code",
   "execution_count": null,
   "metadata": {},
   "outputs": [],
   "source": [
    "device_str = \"cuda\" if torch.cuda.is_available() else \"cpu\"\n",
    "device = torch.device(device_str)\n",
    "print(\"Torch Using device:\", device)\n",
    "\n",
    "transform = Compose(\n",
    "    [\n",
    "        ToTensor(device),\n",
    "        Normalize([0.485, 0.456, 0.406], [0.229, 0.224, 0.225]),\n",
    "    ]\n",
    ")\n",
    "\n",
    "dataset = BirdDetection(image_dir=\"../dataset/data\", annotations_dir=\"../dataset/ann\")\n",
    "dataset = TransformDatasetWrapper(dataset, transform)\n",
    "model = retinanet_resnet50_fpn(num_classes=2, pretrained=False, pretrained_backbone=False)\n",
    "\n",
    "model = model.to(device)\n",
    "model.eval()"
   ]
  },
  {
   "cell_type": "markdown",
   "metadata": {},
   "source": [
    "## Train Detection from scratch"
   ]
  },
  {
   "cell_type": "code",
   "execution_count": null,
   "metadata": {
    "id": "E3DU00viFGPV",
    "tags": []
   },
   "outputs": [],
   "source": [
    "!PYTHONPATH=$(pwd) python ./scripts/retinanet_train.py \\\n",
    "                            --lr 3e-5 \\\n",
    "                            --lr_delta 1e-5 \\\n",
    "                            --max_epoch 100 \\\n",
    "                            --batch_size 4 \\\n",
    "                            --tag 0_1_det_scratch \\\n",
    "                            --train_percent .7 \\\n",
    "                            --use_p_of_data 1 \\\n",
    "                            --data_dir $(pwd)/../dataset \\\n",
    "                            --log_dir $(pwd)/experiments"
   ]
  },
  {
   "cell_type": "code",
   "execution_count": null,
   "metadata": {
    "id": "F2jopSu_y3gl"
   },
   "outputs": [],
   "source": [
    "model.load_state_dict(torch.load(\"/workspace8/RetinaNet/experiments/checkpoints/best_chpt_0_1_det_scratch.pth\"))"
   ]
  },
  {
   "cell_type": "code",
   "execution_count": null,
   "metadata": {},
   "outputs": [],
   "source": [
    "idx = random.randint(0, len(dataset)-1)\n",
    "img = dataset[idx][0]\n",
    "\n",
    "model.eval()\n",
    "#get features\n",
    "features = get_features(model, [img], device)\n",
    "\n",
    "imact = [feat.squeeze().cpu().detach().numpy() for feat in features]\n",
    "\n",
    "# get predictions\n",
    "predicted = model([img])\n",
    "keep = torchvision.ops.nms(predicted[0][\"boxes\"], predicted[0][\"scores\"], 0.1)\n",
    "keep = keep.cpu().numpy()\n",
    "boxes = list(np.floor(predicted[0][\"boxes\"].cpu().detach().numpy()[keep]))\n",
    "scores = list(predicted[0][\"scores\"].cpu().detach().numpy()[keep])\n",
    "\n",
    "# Visualize\n",
    "fig, axarr = plt.subplots(2, 3, figsize=(15,10))\n",
    "\n",
    "# print(img.shape)\n",
    "# for feat in imact:\n",
    "#     print(feat.shape)\n",
    "#     print(resize_func(feat, img.shape[1:]).shape)\n",
    "\n",
    "img = (img.cpu().permute((1, 2, 0)).numpy().copy() * np.array([0.229, 0.224, 0.225]) + np.array([0.485, 0.456, 0.406]))\n",
    "\n",
    "# visualize boxes\n",
    "print(len(boxes))\n",
    "for box, score in zip(boxes, scores):\n",
    "    if score > 0.2:\n",
    "        cv2.rectangle(img, (int(box[0]), int(box[1])), (int(box[2]), int(box[3])), (0, 0, 255), 2)\n",
    "\n",
    "axarr[0, 0].imshow(img)\n",
    "# visualize features\n",
    "for j in range(1, 6):\n",
    "    axarr[j//3, j%3].imshow(resize_func(imact[j-1], img.shape[:2]))"
   ]
  },
  {
   "cell_type": "markdown",
   "metadata": {},
   "source": [
    "## Train Detection transfer learning"
   ]
  },
  {
   "cell_type": "code",
   "execution_count": null,
   "metadata": {
    "id": "E3DU00viFGPV",
    "tags": []
   },
   "outputs": [],
   "source": [
    "!PYTHONPATH=$(pwd) python ./scripts/retinanet_train.py \\\n",
    "                            --lr 3e-5 \\\n",
    "                            --lr_delta 1e-5 \\\n",
    "                            --max_epoch 100 \\\n",
    "                            --batch_size 4 \\\n",
    "                            --tag 0_2_det_transferlr \\\n",
    "                            --pretrained_backend \\\n",
    "                            --train_percent .7 \\\n",
    "                            --use_p_of_data 1 \\\n",
    "                            --data_dir $(pwd)/../dataset \\\n",
    "                            --log_dir $(pwd)/experiments"
   ]
  },
  {
   "cell_type": "code",
   "execution_count": null,
   "metadata": {
    "id": "F2jopSu_y3gl"
   },
   "outputs": [],
   "source": [
    "model.load_state_dict(torch.load(\"/workspace8/RetinaNet/experiments/checkpoints/best_chpt_0_2_det_transferlr.pth\"))"
   ]
  },
  {
   "cell_type": "code",
   "execution_count": null,
   "metadata": {},
   "outputs": [],
   "source": [
    "idx = random.randint(0, len(dataset)-1)\n",
    "img = dataset[idx][0]\n",
    "\n",
    "model.eval()\n",
    "#get features\n",
    "features = get_features(model, [img], device)\n",
    "\n",
    "imact = [feat.squeeze().cpu().detach().numpy() for feat in features]\n",
    "\n",
    "# get predictions\n",
    "predicted = model([img])\n",
    "keep = torchvision.ops.nms(predicted[0][\"boxes\"], predicted[0][\"scores\"], 0.1)\n",
    "keep = keep.cpu().numpy()\n",
    "boxes = list(np.floor(predicted[0][\"boxes\"].cpu().detach().numpy()[keep]))\n",
    "scores = list(predicted[0][\"scores\"].cpu().detach().numpy()[keep])\n",
    "\n",
    "# Visualize\n",
    "fig, axarr = plt.subplots(2, 3, figsize=(15,10))\n",
    "\n",
    "# print(img.shape)\n",
    "# for feat in imact:\n",
    "#     print(feat.shape)\n",
    "#     print(resize_func(feat, img.shape[1:]).shape)\n",
    "\n",
    "img = (img.cpu().permute((1, 2, 0)).numpy().copy() * np.array([0.229, 0.224, 0.225]) + np.array([0.485, 0.456, 0.406]))\n",
    "\n",
    "# visualize boxes\n",
    "print(len(boxes))\n",
    "for box, score in zip(boxes, scores):\n",
    "    if score > 0.2:\n",
    "        cv2.rectangle(img, (int(box[0]), int(box[1])), (int(box[2]), int(box[3])), (0, 0, 255), 2)\n",
    "\n",
    "axarr[0, 0].imshow(img)\n",
    "# visualize features\n",
    "for j in range(1, 6):\n",
    "    axarr[j//3, j%3].imshow(resize_func(imact[j-1], img.shape[:2]))"
   ]
  },
  {
   "cell_type": "markdown",
   "metadata": {},
   "source": [
    "## Train Image Level Classifier from scratch"
   ]
  },
  {
   "cell_type": "code",
   "execution_count": null,
   "metadata": {
    "id": "E3DU00viFGPV",
    "tags": []
   },
   "outputs": [],
   "source": [
    "!PYTHONPATH=$(pwd) python ./scripts/image_cls_train.py \\\n",
    "                        --opt sgd \\\n",
    "                        --lr 3e-4 \\\n",
    "                        --lr_delta 1e-6 \\\n",
    "                        --weight_decay 0.01 \\\n",
    "                        --max_epoch 100 \\\n",
    "                        --batch_size 12 \\\n",
    "                        --accumulation_steps 3 \\\n",
    "                        --tag 1_1_img_cls_scratch \\\n",
    "                        --train_percent .90 \\\n",
    "                        --use_p_of_data 1 \\\n",
    "                        --data_dir $(pwd)/../data/train \\\n",
    "                        --log_dir $(pwd)/experiments"
   ]
  },
  {
   "cell_type": "code",
   "execution_count": null,
   "metadata": {
    "id": "F2jopSu_y3gl"
   },
   "outputs": [],
   "source": [
    "model.load_state_dict(torch.load(\"/workspace8/RetinaNet/experiments/checkpoints/best_chpt_1_1_img_cls_scratch.pth\"))"
   ]
  },
  {
   "cell_type": "code",
   "execution_count": null,
   "metadata": {},
   "outputs": [],
   "source": [
    "idx = random.randint(0, len(dataset)-1)\n",
    "img = dataset[idx][0]\n",
    "\n",
    "features = get_features(model, [img], device)\n",
    "\n",
    "imact = [feat.squeeze().cpu().detach().numpy() for feat in features]\n",
    "fig, axarr = plt.subplots(2, 3, figsize=(15,10))\n",
    "\n",
    "# print(img.shape)\n",
    "# for feat in imact:\n",
    "#     print(feat.shape)\n",
    "#     print(resize_func(feat, img.shape[1:]).shape)\n",
    "\n",
    "axarr[0, 0].imshow((img.permute((1, 2, 0))*np.array([0.229, 0.224, 0.225]) + np.array([0.485, 0.456, 0.406])))\n",
    "for j in range(1, 6):\n",
    "    axarr[j//3, j%3].imshow(resize_func(imact[j-1], img.shape[1:]))"
   ]
  },
  {
   "cell_type": "markdown",
   "metadata": {},
   "source": [
    "### Finetune on Detection Task\n",
    "#### (from scratch)"
   ]
  },
  {
   "cell_type": "code",
   "execution_count": null,
   "metadata": {
    "id": "E3DU00viFGPV",
    "tags": []
   },
   "outputs": [],
   "source": [
    "!PYTHONPATH=$(pwd) python ./scripts/retinanet_train.py \\\n",
    "                            --lr 3e-5 \\\n",
    "                            --lr_delta 1e-5 \\\n",
    "                            --max_epoch 100 \\\n",
    "                            --batch_size 4 \\\n",
    "                            --tag 1_2_ft_det_scratch \\\n",
    "                            --pretrained $(pwd)/experiments/checkpoints/best_chpt_1_1_img_cls_scratch.pth \\\n",
    "                            --train_percent .7 \\\n",
    "                            --use_p_of_data 1 \\\n",
    "                            --data_dir $(pwd)/../dataset \\\n",
    "                            --log_dir $(pwd)/experiments"
   ]
  },
  {
   "cell_type": "code",
   "execution_count": null,
   "metadata": {
    "id": "F2jopSu_y3gl"
   },
   "outputs": [],
   "source": [
    "model.load_state_dict(torch.load(\"/workspace8/RetinaNet/experiments/checkpoints/best_chpt_1_2_ft_det_scratch.pth\"))"
   ]
  },
  {
   "cell_type": "code",
   "execution_count": null,
   "metadata": {},
   "outputs": [],
   "source": [
    "idx = random.randint(0, len(dataset)-1)\n",
    "img = dataset[idx][0]\n",
    "\n",
    "features = get_features(model, [img], device)\n",
    "\n",
    "imact = [feat.squeeze().cpu().detach().numpy() for feat in features]\n",
    "fig, axarr = plt.subplots(2, 3, figsize=(15,10))\n",
    "\n",
    "# print(img.shape)\n",
    "# for feat in imact:\n",
    "#     print(feat.shape)\n",
    "#     print(resize_func(feat, img.shape[1:]).shape)\n",
    "\n",
    "axarr[0, 0].imshow((img.permute((1, 2, 0))*np.array([0.229, 0.224, 0.225]) + np.array([0.485, 0.456, 0.406])))\n",
    "for j in range(1, 6):\n",
    "    axarr[j//3, j%3].imshow(resize_func(imact[j-1], img.shape[1:]))"
   ]
  },
  {
   "cell_type": "markdown",
   "metadata": {},
   "source": [
    "## Train Image Level Classifier with transfer learning"
   ]
  },
  {
   "cell_type": "code",
   "execution_count": null,
   "metadata": {
    "id": "E3DU00viFGPV",
    "tags": []
   },
   "outputs": [],
   "source": [
    "!PYTHONPATH=$(pwd) python ./scripts/image_cls_train.py \\\n",
    "                            --opt sgd \\\n",
    "                            --lr 3e-4 \\\n",
    "                            --lr_delta 1e-6 \\\n",
    "                            --weight_decay 1e-4 \\\n",
    "                            --max_epoch 100 \\\n",
    "                            --batch_size 12 \\\n",
    "                            --accumulation_steps 3 \\\n",
    "                            --tag 2_1_img_cls_transferlr \\\n",
    "                            --pretrained_backend \\\n",
    "                            --train_percent .90 \\\n",
    "                            --use_p_of_data 1 \\\n",
    "                            --data_dir $(pwd)/../data/train \\\n",
    "                            --log_dir $(pwd)/experiments"
   ]
  },
  {
   "cell_type": "code",
   "execution_count": null,
   "metadata": {
    "id": "F2jopSu_y3gl"
   },
   "outputs": [],
   "source": [
    "model.load_state_dict(torch.load(\"/workspace8/RetinaNet/experiments/checkpoints/best_chpt_2_1_img_cls_transferlr.pth\"))"
   ]
  },
  {
   "cell_type": "code",
   "execution_count": null,
   "metadata": {},
   "outputs": [],
   "source": [
    "idx = random.randint(0, len(dataset)-1)\n",
    "img = dataset[idx][0]\n",
    "\n",
    "features = get_features(model, [img], device)\n",
    "\n",
    "imact = [feat.squeeze().cpu().detach().numpy() for feat in features]\n",
    "fig, axarr = plt.subplots(2, 3, figsize=(15,10))\n",
    "\n",
    "# print(img.shape)\n",
    "# for feat in imact:\n",
    "#     print(feat.shape)\n",
    "#     print(resize_func(feat, img.shape[1:]).shape)\n",
    "\n",
    "axarr[0, 0].imshow((img.permute((1, 2, 0))*np.array([0.229, 0.224, 0.225]) + np.array([0.485, 0.456, 0.406])))\n",
    "for j in range(1, 6):\n",
    "    axarr[j//3, j%3].imshow(resize_func(imact[j-1], img.shape[1:]))"
   ]
  },
  {
   "cell_type": "markdown",
   "metadata": {},
   "source": [
    "### Finetune on Detection Task\n",
    "#### (transfer learning)"
   ]
  },
  {
   "cell_type": "code",
   "execution_count": null,
   "metadata": {
    "id": "E3DU00viFGPV",
    "tags": []
   },
   "outputs": [],
   "source": [
    "!PYTHONPATH=$(pwd) python ./scripts/retinanet_train.py \\\n",
    "                            --lr 3e-5 \\\n",
    "                            --lr_delta 1e-5 \\\n",
    "                            --max_epoch 100 \\\n",
    "                            --batch_size 4 \\\n",
    "                            --tag 2_2_ft_det_transferlr \\\n",
    "                            --pretrained $(pwd)/experiments/checkpoints/best_chpt_2_1_img_cls_transferlr.pth \\\n",
    "                            --train_percent .7 \\\n",
    "                            --use_p_of_data 1 \\\n",
    "                            --data_dir $(pwd)/../dataset \\\n",
    "                            --log_dir $(pwd)/experiments"
   ]
  },
  {
   "cell_type": "code",
   "execution_count": null,
   "metadata": {
    "id": "F2jopSu_y3gl"
   },
   "outputs": [],
   "source": [
    "model.load_state_dict(torch.load(\"/workspace8/RetinaNet/experiments/checkpoints/best_chpt_2_2_ft_det_transferlr.pth\"))"
   ]
  },
  {
   "cell_type": "code",
   "execution_count": null,
   "metadata": {},
   "outputs": [],
   "source": [
    "idx = random.randint(0, len(dataset)-1)\n",
    "img = dataset[idx][0]\n",
    "\n",
    "#get features\n",
    "features = get_features(model, [img], device)\n",
    "\n",
    "imact = [feat.squeeze().cpu().detach().numpy() for feat in features]\n",
    "\n",
    "# get predictions\n",
    "predicted = model([img])\n",
    "keep = torchvision.ops.nms(predicted[0][\"boxes\"], predicted[0][\"scores\"], 0.1)\n",
    "keep = keep.cpu().numpy()\n",
    "boxes = list(np.floor(predicted[0][\"boxes\"].cpu().detach().numpy()[keep]))\n",
    "scores = list(predicted[0][\"scores\"].cpu().detach().numpy()[keep])\n",
    "\n",
    "# Visualize\n",
    "fig, axarr = plt.subplots(2, 3, figsize=(15,10))\n",
    "\n",
    "# print(img.shape)\n",
    "# for feat in imact:\n",
    "#     print(feat.shape)\n",
    "#     print(resize_func(feat, img.shape[1:]).shape)\n",
    "\n",
    "img = (img.cpu().permute((1, 2, 0)).numpy().copy() * np.array([0.229, 0.224, 0.225]) + np.array([0.485, 0.456, 0.406]))\n",
    "\n",
    "# visualize boxes\n",
    "print(len(boxes))\n",
    "for box, score in zip(boxes, scores):\n",
    "    if score > 0.3:\n",
    "        cv2.rectangle(img, (int(box[0]), int(box[1])), (int(box[2]), int(box[3])), (0, 0, 255), 2)\n",
    "\n",
    "axarr[0, 0].imshow(img)\n",
    "# visualize features\n",
    "for j in range(1, 6):\n",
    "    axarr[j//3, j%3].imshow(resize_func(imact[j-1], img.shape[:2]))"
   ]
  }
 ],
 "metadata": {
  "accelerator": "GPU",
  "colab": {
   "authorship_tag": "ABX9TyOWdrMzihHbS156pET+ZDO4",
   "collapsed_sections": [],
   "name": "colab_train_resnet10.ipynb",
   "provenance": []
  },
  "kernelspec": {
   "display_name": "Python 3",
   "language": "python",
   "name": "python3"
  },
  "language_info": {
   "codemirror_mode": {
    "name": "ipython",
    "version": 3
   },
   "file_extension": ".py",
   "mimetype": "text/x-python",
   "name": "python",
   "nbconvert_exporter": "python",
   "pygments_lexer": "ipython3",
   "version": "3.6.8"
  }
 },
 "nbformat": 4,
 "nbformat_minor": 4
}
