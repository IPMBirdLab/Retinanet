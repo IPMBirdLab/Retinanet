{
 "cells": [
  {
   "cell_type": "code",
   "execution_count": null,
   "metadata": {},
   "outputs": [],
   "source": [
    "## generate .rst report\n",
    "!PYTHONPATH=$(pwd) python ./scripts/report.py"
   ]
  },
  {
   "cell_type": "code",
   "execution_count": null,
   "metadata": {},
   "outputs": [],
   "source": [
    "%config Completer.use_jedi = False"
   ]
  },
  {
   "cell_type": "code",
   "execution_count": null,
   "metadata": {},
   "outputs": [],
   "source": [
    "import sys\n",
    "sys.path.insert(0, \"/workspace8/video_toolkit/\")\n",
    "from VideoToolkit.tools import rescal_to_image, get_cv_resize_function\n",
    "resize_func = get_cv_resize_function()"
   ]
  },
  {
   "cell_type": "code",
   "execution_count": null,
   "metadata": {},
   "outputs": [],
   "source": [
    "import torch\n",
    "from torch import nn\n",
    "import torchvision\n",
    "import torch.nn.functional as F\n",
    "from torch.utils.data import DataLoader, SubsetRandomSampler, Subset\n",
    "\n",
    "\n",
    "from retinanet.model.detection.retinanet import retinanet_resnet50_fpn\n",
    "from retinanet.model.utils import outputs_to_logits, logits_to_preds\n",
    "\n",
    "from retinanet.datasets.bird import BirdDetection, BirdClassification\n",
    "from retinanet.datasets.transforms import *\n",
    "from retinanet.datasets.utils import TransformDatasetWrapper, train_val_split\n",
    "\n",
    "from retinanet.model.utils import load_chpt\n",
    "\n",
    "from retinanet.utils.visualizatioin import vis_features, vis_features_CAM\n",
    "from retinanet.utils import create_directory\n",
    "\n",
    "import os\n",
    "import cv2\n",
    "import random\n",
    "import numpy as np\n",
    "\n",
    "import matplotlib as mpl\n",
    "import matplotlib.pyplot as plt\n",
    "import numpy as np\n",
    "from pylab import cm\n",
    "\n",
    "%matplotlib inline"
   ]
  },
  {
   "cell_type": "code",
   "execution_count": null,
   "metadata": {},
   "outputs": [],
   "source": [
    "device_str = \"cuda\" if torch.cuda.is_available() else \"cpu\"\n",
    "device = torch.device(device_str)\n",
    "print(\"Torch Using device:\", device)"
   ]
  },
  {
   "cell_type": "code",
   "execution_count": null,
   "metadata": {},
   "outputs": [],
   "source": [
    "data_log_dir = \"/workspace8/RetinaNet/experiments/dataset\"\n",
    "train_transform = Compose(\n",
    "    [\n",
    "        ToTensor(device),\n",
    "        Normalize([0.485, 0.456, 0.406], [0.229, 0.224, 0.225]),\n",
    "    ]\n",
    ")"
   ]
  },
  {
   "cell_type": "code",
   "execution_count": null,
   "metadata": {},
   "outputs": [],
   "source": [
    "train_dataset_cls = BirdClassification()\n",
    "train_dataset_cls.load(data_log_dir, file_name=\"train_cls\")\n",
    "val_dataset_cls = BirdClassification()\n",
    "val_dataset_cls.load(data_log_dir, file_name=\"validation_cls\")\n",
    "\n",
    "train_dataset_cls = TransformDatasetWrapper(train_dataset_cls, train_transform)\n",
    "val_dataset_cls = TransformDatasetWrapper(val_dataset_cls, train_transform)"
   ]
  },
  {
   "cell_type": "code",
   "execution_count": null,
   "metadata": {},
   "outputs": [],
   "source": [
    "train_dataset_det = BirdDetection()\n",
    "train_dataset_det.load(data_log_dir, file_name=\"train_detection\")\n",
    "val_dataset_det = BirdDetection()\n",
    "val_dataset_det.load(data_log_dir, file_name=\"validation_detection\")\n",
    "\n",
    "train_dataset_det = TransformDatasetWrapper(train_dataset_det, train_transform)\n",
    "val_dataset_det = TransformDatasetWrapper(val_dataset_det, train_transform)"
   ]
  },
  {
   "cell_type": "code",
   "execution_count": null,
   "metadata": {},
   "outputs": [],
   "source": [
    "data_dir = \"../data/labeled_data/\"\n",
    "train_large_dataset = BirdDetection(\n",
    "        images_dir=os.path.join(data_dir, \"train\"),\n",
    "        annotations_dir=os.path.join(data_dir, \"train\"),\n",
    "    )\n",
    "train_large_dataset = TransformDatasetWrapper(train_large_dataset, train_transform)\n",
    "\n",
    "test_large_dataset = BirdDetection(\n",
    "        images_dir=os.path.join(data_dir, \"test\"),\n",
    "        annotations_dir=os.path.join(data_dir, \"test\"),\n",
    "    )\n",
    "test_large_dataset = TransformDatasetWrapper(test_large_dataset, train_transform)"
   ]
  },
  {
   "cell_type": "code",
   "execution_count": null,
   "metadata": {
    "tags": []
   },
   "outputs": [],
   "source": [
    "model = retinanet_resnet50_fpn(num_classes=2, pretrained=False, pretrained_backbone=False, extra_heads=[\"cls\"])\n",
    "\n",
    "model = model.to(device)\n",
    "model.eval()"
   ]
  },
  {
   "cell_type": "code",
   "execution_count": null,
   "metadata": {},
   "outputs": [],
   "source": [
    "def precision_recall_curve(model, dataset, at_iou = 0.2, at_nms = 0.5):\n",
    "    model.eval()\n",
    "    score_list = []\n",
    "    pseudo_y_true_list = []\n",
    "    actual_positives = []\n",
    "\n",
    "    with torch.no_grad():\n",
    "        for step, (images, targets) in enumerate(dataset):\n",
    "            ###############################################################################\n",
    "            # Normal\n",
    "            ###############################################################################\n",
    "            images = [images]\n",
    "            targets = [targets]\n",
    "            detections = model(images)\n",
    "\n",
    "            boxes, scores, labels = (\n",
    "                [det[\"boxes\"] for det in detections][0],\n",
    "                [det[\"scores\"] for det in detections][0],\n",
    "                [det[\"labels\"] for det in detections][0],\n",
    "            )\n",
    "\n",
    "            gt_boxes, gt_labels = (\n",
    "                [lbl[\"boxes\"] for lbl in targets][0],\n",
    "                [lbl[\"labels\"] for lbl in targets][0],\n",
    "            )\n",
    "\n",
    "            # remove overlapping boxes\n",
    "            keep = torchvision.ops.batched_nms(\n",
    "                boxes, scores, labels, at_nms\n",
    "            )\n",
    "            boxes, scores = boxes[keep], scores[keep]\n",
    "            \n",
    "            if not boxes.size()[0] > 0:\n",
    "                pseudo_y_ture = torch.zeros(1).to(boxes.device)\n",
    "                scores = torch.zeros(1).to(boxes.device)\n",
    "            else:\n",
    "                # matching predictions\n",
    "                match_matrix = torchvision.ops.box_iou(boxes, gt_boxes)\n",
    "                _, match_indices = torch.sort(scores, dim=0, descending=True)\n",
    "                match_matrix = match_matrix[match_indices, :]\n",
    "                match_scores, matched_idx = match_matrix.max(dim=1)\n",
    "\n",
    "                # apply IOU threshold to get pseudo y_true labels\n",
    "                pos_idx = torch.where(match_scores > at_iou)[0]\n",
    "                pseudo_y_ture = torch.where(match_scores > at_iou, 1, 0).to(\n",
    "                    match_scores.device\n",
    "                )\n",
    "                \n",
    "                # count duplicated predistions with lower predicted score as false positives\n",
    "                detected_set = set()\n",
    "                for idx in pos_idx:\n",
    "                    if matched_idx[idx].item() in detected_set:\n",
    "                        pseudo_y_ture[idx] = 0\n",
    "                    else:\n",
    "                        detected_set.add(matched_idx[idx].item())\n",
    "\n",
    "            pseudo_y_true_list.append(pseudo_y_ture)\n",
    "            score_list.append(scores)\n",
    "            actual_positives.append(gt_boxes.shape[0])\n",
    "\n",
    "        pseudo_y_ture = torch.cat(pseudo_y_true_list)\n",
    "        scores = torch.cat(score_list)\n",
    "\n",
    "        # sorting pseudo labels based on predicted scores\n",
    "        # makes it possoble for calculating precision and recall values\n",
    "        # for different thresholds\n",
    "        _, match_indices = torch.sort(scores, dim=0, descending=True)\n",
    "        pseudo_y_ture = pseudo_y_ture[match_indices]\n",
    "\n",
    "        tps = pseudo_y_ture.float().cumsum(0)\n",
    "        fps = (torch.ones(1).to(pseudo_y_ture.device) - pseudo_y_ture).float().cumsum(0)\n",
    "\n",
    "        # precision recall curve\n",
    "        precision = tps / (tps + fps)\n",
    "        precision[torch.isnan(precision)] = 0\n",
    "        recall = tps / torch.tensor(actual_positives).sum().to(tps.device) # tps[-1]\n",
    "        recall[torch.isnan(recall)] = 0\n",
    "\n",
    "\n",
    "        # average precision\n",
    "        ap = (torch.diff(recall) * precision[:-1]).sum()\n",
    "    \n",
    "    return precision.cpu().numpy(), recall.cpu().numpy(), ap.cpu().numpy()\n",
    "\n",
    "def plot_pr_rc_curve(model, dataset, title):\n",
    "    # Create figure and add axes object\n",
    "    fig = plt.figure()\n",
    "    ax = fig.add_axes([0, 0, 1, 1])\n",
    "    ax.set_title(title)\n",
    "    ax.set_xlabel('Precision', labelpad=10, fontsize=16)\n",
    "    ax.set_ylabel('Recall', labelpad=10, fontsize=16)\n",
    "    for at_iou in [0.2, 0.5, 0.75, 0.9, 0.95]:\n",
    "        precision, recall, ap = precision_recall_curve(model, dataset, at_iou, at_nms=0.5)\n",
    "        ax.plot(recall, precision, label=f\"AP@IOU{at_iou:.2f}:{ap:.3f}\")\n",
    "    # Add legend to plot\n",
    "    ax.legend(bbox_to_anchor=(1, 1), loc=1, frameon=False)\n",
    "    plt.show() "
   ]
  },
  {
   "cell_type": "code",
   "execution_count": null,
   "metadata": {},
   "outputs": [],
   "source": [
    "def get_res(model, inp):\n",
    "    model.eval()\n",
    "    image, label = inp\n",
    "\n",
    "    losses, bb_pred, cls_pred = model([image], [label])\n",
    "\n",
    "    logit = outputs_to_logits(cls_pred)\n",
    "    pred = logits_to_preds(logit)\n",
    "    label = label[\"img_cls_labels\"]\n",
    "    \n",
    "    return logit, pred, label\n",
    "\n",
    "# def logits_to_preds(logits):\n",
    "#     return (logits > torch.min(logits)).float()\n",
    "\n",
    "def logits_to_preds(logits):\n",
    "    return (logits > 0.5).float()\n",
    "\n",
    "def get_errors(model, dataset):\n",
    "    res = []\n",
    "    for i in range(len(dataset)):\n",
    "        inp = dataset[i]\n",
    "        logits, preds, label = get_res(model, inp)\n",
    "\n",
    "        if not torch.eq(preds, label).all():\n",
    "            print(f\"\\n index: {i}\")\n",
    "            print(f\"logits: {logits}\")\n",
    "            print(f\"preds : {preds}\")\n",
    "            print(f\"label : {label}\")\n",
    "            res.append(i)\n",
    "    return res"
   ]
  },
  {
   "cell_type": "markdown",
   "metadata": {},
   "source": [
    "## Visualize Detection from scratch"
   ]
  },
  {
   "cell_type": "code",
   "execution_count": null,
   "metadata": {
    "id": "F2jopSu_y3gl"
   },
   "outputs": [],
   "source": [
    "model = load_chpt(model, \"/workspace8/RetinaNet/experiments/checkpoints/best_chpt_0_1.det_scratch_test.pth\")"
   ]
  },
  {
   "cell_type": "code",
   "execution_count": null,
   "metadata": {},
   "outputs": [],
   "source": [
    "idx = random.randint(0, len(val_dataset_det)-1)\n",
    "img = val_dataset_det[idx][0]\n",
    "gt_boxes = val_dataset_det[idx][1][\"boxes\"]\n",
    "\n",
    "fig = vis_features(model, img, gt_boxes=gt_boxes, threshold=0.2, device=device)"
   ]
  },
  {
   "cell_type": "code",
   "execution_count": null,
   "metadata": {
    "scrolled": true,
    "tags": []
   },
   "outputs": [],
   "source": [
    "ds = test_large_dataset\n",
    "for idx, d in enumerate(ds):\n",
    "    img = ds[idx][0]\n",
    "    gt_boxes = ds[idx][1][\"boxes\"]\n",
    "    fig = vis_features(model, img, gt_boxes=gt_boxes, threshold=0.0, thickness=1, device=device, path=f\"reports/det_scratch_test/{idx}.jpg\")"
   ]
  },
  {
   "cell_type": "code",
   "execution_count": null,
   "metadata": {},
   "outputs": [],
   "source": [
    "exp = \"0_1.det_scratch_test\"\n",
    "plot_pr_rc_curve(model, train_dataset_det, f\"EXP: {exp}  |  DS: train_dataset_det\")\n",
    "plot_pr_rc_curve(model, val_dataset_det, f\"EXP: {exp}  |  DS: val_dataset_det\")\n",
    "plot_pr_rc_curve(model, test_large_dataset, f\"EXP: {exp}  |  DS: test_large_dataset\")"
   ]
  },
  {
   "cell_type": "markdown",
   "metadata": {},
   "source": [
    "## Visualize Detection transfer learning"
   ]
  },
  {
   "cell_type": "code",
   "execution_count": null,
   "metadata": {
    "id": "F2jopSu_y3gl"
   },
   "outputs": [],
   "source": [
    "model = load_chpt(model, \"/workspace8/RetinaNet/experiments/checkpoints/best_chpt_0_2.det_transferlr_test.pth\")"
   ]
  },
  {
   "cell_type": "code",
   "execution_count": null,
   "metadata": {},
   "outputs": [],
   "source": [
    "ds = large_dataset\n",
    "# ds = train_dataset_det\n",
    "idx = random.randint(0, len(ds)-1)\n",
    "img = ds[idx][0]\n",
    "gt_boxes = ds[idx][1][\"boxes\"]\n",
    "\n",
    "fig = vis_features(model, img, gt_boxes=gt_boxes, threshold=0.0, device=device, vis_boxes=True)"
   ]
  },
  {
   "cell_type": "code",
   "execution_count": null,
   "metadata": {
    "scrolled": true,
    "tags": []
   },
   "outputs": [],
   "source": [
    "ds = test_large_dataset\n",
    "for idx, d in enumerate(ds):\n",
    "    img = ds[idx][0]\n",
    "    gt_boxes = ds[idx][1][\"boxes\"]\n",
    "    fig = vis_features(model, img, gt_boxes=gt_boxes, threshold=0.0, thickness=1, device=device, path=f\"reports/det_transferlr_test/{idx}.jpg\")"
   ]
  },
  {
   "cell_type": "code",
   "execution_count": null,
   "metadata": {},
   "outputs": [],
   "source": [
    "exp = \"0_2.det_transferlr_test\"\n",
    "plot_pr_rc_curve(model, train_dataset_det, f\"EXP: {exp}  |  DS: train_dataset_det\")\n",
    "plot_pr_rc_curve(model, val_dataset_det, f\"EXP: {exp}  |  DS: val_dataset_det\")\n",
    "plot_pr_rc_curve(model, test_large_dataset, f\"EXP: {exp}  |  DS: test_large_dataset\")"
   ]
  },
  {
   "cell_type": "markdown",
   "metadata": {},
   "source": [
    "## Visualize Image Level Classifier from scratch"
   ]
  },
  {
   "cell_type": "code",
   "execution_count": null,
   "metadata": {
    "id": "F2jopSu_y3gl"
   },
   "outputs": [],
   "source": [
    "model = load_chpt(model, \"/workspace8/RetinaNet/experiments/checkpoints/best_chpt_1_1.img_cls_scratch_test.pth\")"
   ]
  },
  {
   "cell_type": "code",
   "execution_count": null,
   "metadata": {
    "tags": []
   },
   "outputs": [],
   "source": [
    "err_indices = get_errors(model, train_dataset_cls)"
   ]
  },
  {
   "cell_type": "code",
   "execution_count": null,
   "metadata": {},
   "outputs": [],
   "source": [
    "len(err_indices)"
   ]
  },
  {
   "cell_type": "code",
   "execution_count": null,
   "metadata": {},
   "outputs": [],
   "source": [
    "idx = random.randint(0, len(train_dataset_cls))\n",
    "img = train_dataset_cls[idx][0]"
   ]
  },
  {
   "cell_type": "code",
   "execution_count": null,
   "metadata": {},
   "outputs": [],
   "source": [
    "idx = random.randint(0, len(err_indices))\n",
    "img = train_dataset_cls[err_indices[idx]][0]"
   ]
  },
  {
   "cell_type": "code",
   "execution_count": null,
   "metadata": {},
   "outputs": [],
   "source": [
    "fig = vis_features(model, img, threshold=0.2, device=device)"
   ]
  },
  {
   "cell_type": "code",
   "execution_count": null,
   "metadata": {},
   "outputs": [],
   "source": [
    "fig = vis_features_CAM(model, img, threshold=0.2, device=device)"
   ]
  },
  {
   "cell_type": "markdown",
   "metadata": {},
   "source": [
    "### Visualize Finetuned Detection Task (on from scratch)"
   ]
  },
  {
   "cell_type": "code",
   "execution_count": null,
   "metadata": {
    "id": "F2jopSu_y3gl"
   },
   "outputs": [],
   "source": [
    "model = load_chpt(model, \"/workspace8/RetinaNet/experiments/checkpoints/best_chpt_1_2.ft_det_scratch_test.pth\")"
   ]
  },
  {
   "cell_type": "code",
   "execution_count": null,
   "metadata": {},
   "outputs": [],
   "source": [
    "idx = random.randint(0, len(val_dataset_det)-1)\n",
    "img = val_dataset_det[idx][0]\n",
    "gt_boxes = val_dataset_det[idx][1][\"boxes\"]\n",
    "\n",
    "fig = vis_features(model, img, gt_boxes=gt_boxes, threshold=0.2, device=device)"
   ]
  },
  {
   "cell_type": "code",
   "execution_count": null,
   "metadata": {},
   "outputs": [],
   "source": [
    "fig = vis_features_CAM(model, img, gt_boxes=gt_boxes, threshold=0.2, device=device)"
   ]
  },
  {
   "cell_type": "code",
   "execution_count": null,
   "metadata": {
    "scrolled": true,
    "tags": []
   },
   "outputs": [],
   "source": [
    "ds = test_large_dataset\n",
    "for idx, d in enumerate(ds):\n",
    "    img = ds[idx][0]\n",
    "    gt_boxes = ds[idx][1][\"boxes\"]\n",
    "    fig = vis_features_CAM(model, img, gt_boxes=gt_boxes, threshold=0.2, thickness=1, device=device, path=f\"reports/ft_det_scratch_test/{idx}.jpg\")"
   ]
  },
  {
   "cell_type": "code",
   "execution_count": null,
   "metadata": {},
   "outputs": [],
   "source": [
    "exp = \"1_2.ft_det_scratch_test\"\n",
    "plot_pr_rc_curve(model, train_dataset_det, f\"EXP: {exp}  |  DS: train_dataset_det\")\n",
    "plot_pr_rc_curve(model, val_dataset_det, f\"EXP: {exp}  |  DS: val_dataset_det\")\n",
    "plot_pr_rc_curve(model, test_large_dataset, f\"EXP: {exp}  |  DS: test_large_dataset\")"
   ]
  },
  {
   "cell_type": "markdown",
   "metadata": {},
   "source": [
    "## Visualize Image Level Classifier with transfer learning"
   ]
  },
  {
   "cell_type": "code",
   "execution_count": null,
   "metadata": {
    "id": "F2jopSu_y3gl"
   },
   "outputs": [],
   "source": [
    "model = load_chpt(model, \"/workspace8/RetinaNet/experiments/checkpoints/best_chpt_2_1_img_cls_transferlr.pth\")"
   ]
  },
  {
   "cell_type": "code",
   "execution_count": null,
   "metadata": {
    "scrolled": true,
    "tags": []
   },
   "outputs": [],
   "source": [
    "err_indices = get_errors(model, train_dataset_cls)"
   ]
  },
  {
   "cell_type": "code",
   "execution_count": null,
   "metadata": {},
   "outputs": [],
   "source": [
    "idx = random.randint(0, len(train_dataset_cls))\n",
    "img = train_dataset_cls[idx][0]"
   ]
  },
  {
   "cell_type": "code",
   "execution_count": null,
   "metadata": {},
   "outputs": [],
   "source": [
    "idx = random.randint(0, len(err_indices))\n",
    "img = train_dataset_cls[12][0]"
   ]
  },
  {
   "cell_type": "code",
   "execution_count": null,
   "metadata": {},
   "outputs": [],
   "source": [
    "fig = vis_features(model, img, threshold=0.2, device=device)"
   ]
  },
  {
   "cell_type": "code",
   "execution_count": null,
   "metadata": {},
   "outputs": [],
   "source": [
    "fig = vis_features_CAM(model, img, threshold=0.2, device=device)"
   ]
  },
  {
   "cell_type": "markdown",
   "metadata": {},
   "source": [
    "### Visualize Finetuned Detection Task (on with transfer learning)"
   ]
  },
  {
   "cell_type": "code",
   "execution_count": null,
   "metadata": {
    "id": "F2jopSu_y3gl"
   },
   "outputs": [],
   "source": [
    "model = load_chpt(model, \"/workspace8/RetinaNet/experiments/checkpoints/best_chpt_2_2.ft_det_transferlr_test.pth\")"
   ]
  },
  {
   "cell_type": "code",
   "execution_count": null,
   "metadata": {},
   "outputs": [],
   "source": [
    "ds.dataset.files_name[idx]"
   ]
  },
  {
   "cell_type": "code",
   "execution_count": null,
   "metadata": {},
   "outputs": [],
   "source": [
    "ds = val_dataset_det\n",
    "idx = random.randint(0, len(ds)-1)\n",
    "img = ds[idx][0]\n",
    "gt_boxes = ds[idx][1][\"boxes\"]\n",
    "\n",
    "fig = vis_features_CAM(model, img, gt_boxes=gt_boxes, threshold=0.0, device=device)"
   ]
  },
  {
   "cell_type": "code",
   "execution_count": null,
   "metadata": {},
   "outputs": [],
   "source": [
    "fig = vis_features_CAM(model, img, gt_boxes=gt_boxes, threshold=0, device=device)"
   ]
  },
  {
   "cell_type": "code",
   "execution_count": null,
   "metadata": {
    "scrolled": true,
    "tags": []
   },
   "outputs": [],
   "source": [
    "ds = test_large_dataset\n",
    "for idx, d in enumerate(ds):\n",
    "    img = ds[idx][0]\n",
    "    gt_boxes = ds[idx][1][\"boxes\"]\n",
    "    fig = vis_features_CAM(model, img, gt_boxes=gt_boxes, threshold=0.0, thickness=1, device=device, path=f\"reports/ft_det_transferlr_test/{idx}.jpg\")"
   ]
  },
  {
   "cell_type": "code",
   "execution_count": null,
   "metadata": {},
   "outputs": [],
   "source": [
    "exp = \"2_2.ft_det_transferlr_test\"\n",
    "plot_pr_rc_curve(model, train_dataset_det, f\"EXP: {exp}  |  DS: train_dataset_det\")\n",
    "plot_pr_rc_curve(model, val_dataset_det, f\"EXP: {exp}  |  DS: val_dataset_det\")\n",
    "plot_pr_rc_curve(model, test_large_dataset, f\"EXP: {exp}  |  DS: test_large_dataset\")"
   ]
  },
  {
   "cell_type": "markdown",
   "metadata": {},
   "source": [
    "## Visualize intermittent training of image level cls and detection"
   ]
  },
  {
   "cell_type": "code",
   "execution_count": null,
   "metadata": {
    "id": "F2jopSu_y3gl"
   },
   "outputs": [],
   "source": [
    "model = load_chpt(model, \"/workspace8/RetinaNet/experiments/checkpoints/chpt_3_0.intermitent_cls_det_scratch_test3.pth\")"
   ]
  },
  {
   "cell_type": "code",
   "execution_count": null,
   "metadata": {},
   "outputs": [],
   "source": [
    "ds = large_dataset\n",
    "idx = random.randint(0, len(ds)-1)\n",
    "img = ds[idx][0]\n",
    "gt_boxes = ds[idx][1][\"boxes\"]\n",
    "\n",
    "fig = vis_features(model, img, gt_boxes=gt_boxes, threshold=0.0, device=device)"
   ]
  },
  {
   "cell_type": "code",
   "execution_count": null,
   "metadata": {},
   "outputs": [],
   "source": [
    "fig = vis_features_CAM(model, img, gt_boxes=gt_boxes, threshold=0, device=device)"
   ]
  },
  {
   "cell_type": "code",
   "execution_count": null,
   "metadata": {},
   "outputs": [],
   "source": [
    "ds = large_dataset\n",
    "for idx, d in enumerate(ds):\n",
    "    img = ds[idx][0]\n",
    "    gt_boxes = ds[idx][1][\"boxes\"]\n",
    "    fig = vis_features_CAM(model, img, gt_boxes=gt_boxes, threshold=0, device=device, path=f\"reports/cls_det_scratch/{idx}.jpg\")"
   ]
  },
  {
   "cell_type": "code",
   "execution_count": null,
   "metadata": {},
   "outputs": [],
   "source": [
    "exp = \"3_0.intermitent_cls_det_scratch_test3\"\n",
    "plot_pr_rc_curve(model, train_dataset_det, f\"EXP: {exp}  |  DS: train_dataset_det\")\n",
    "plot_pr_rc_curve(model, val_dataset_det, f\"EXP: {exp}  |  DS: val_dataset_det\")\n",
    "plot_pr_rc_curve(model, test_large_dataset, f\"EXP: {exp}  |  DS: test_large_dataset\")"
   ]
  },
  {
   "cell_type": "markdown",
   "metadata": {},
   "source": [
    "#### transferlr"
   ]
  },
  {
   "cell_type": "code",
   "execution_count": null,
   "metadata": {
    "id": "F2jopSu_y3gl"
   },
   "outputs": [],
   "source": [
    "model = load_chpt(model, \"/workspace8/RetinaNet/experiments/checkpoints/chpt_3_0.intermitent_cls_det_transferlr_test.pth\")"
   ]
  },
  {
   "cell_type": "code",
   "execution_count": null,
   "metadata": {},
   "outputs": [],
   "source": [
    "ds = large_dataset\n",
    "idx = random.randint(0, len(ds)-1)\n",
    "img = ds[idx][0]\n",
    "gt_boxes = ds[idx][1][\"boxes\"]\n",
    "\n",
    "fig = vis_features(model, img, gt_boxes=gt_boxes, threshold=0.0, device=device)"
   ]
  },
  {
   "cell_type": "code",
   "execution_count": null,
   "metadata": {},
   "outputs": [],
   "source": [
    "fig = vis_features_CAM(model, img, gt_boxes=gt_boxes, threshold=0, device=device)"
   ]
  },
  {
   "cell_type": "code",
   "execution_count": null,
   "metadata": {},
   "outputs": [],
   "source": [
    "ds = large_dataset\n",
    "for idx, d in enumerate(ds):\n",
    "    img = ds[idx][0]\n",
    "    gt_boxes = ds[idx][1][\"boxes\"]\n",
    "    fig = vis_features_CAM(model, img, gt_boxes=gt_boxes, threshold=0, device=device, path=f\"reports/cls_det_scratch/{idx}.jpg\")"
   ]
  },
  {
   "cell_type": "code",
   "execution_count": null,
   "metadata": {},
   "outputs": [],
   "source": [
    "exp = \"3_0.intermitent_cls_det_transferlr_test\"\n",
    "plot_pr_rc_curve(model, train_dataset_det, f\"EXP: {exp}  |  DS: train_dataset_det\")\n",
    "plot_pr_rc_curve(model, val_dataset_det, f\"EXP: {exp}  |  DS: val_dataset_det\")\n",
    "plot_pr_rc_curve(model, test_large_dataset, f\"EXP: {exp}  |  DS: test_large_dataset\")"
   ]
  },
  {
   "cell_type": "markdown",
   "metadata": {},
   "source": [
    "## Visualize training with autoencoder and image level cls and detection"
   ]
  },
  {
   "cell_type": "markdown",
   "metadata": {},
   "source": [
    "#### from scratch"
   ]
  },
  {
   "cell_type": "code",
   "execution_count": null,
   "metadata": {
    "id": "F2jopSu_y3gl"
   },
   "outputs": [],
   "source": [
    "model = load_chpt(model, \"/workspace8/RetinaNet/experiments/checkpoints/chpt_4_1.img_cls_regen_scratch.pth\")"
   ]
  },
  {
   "cell_type": "code",
   "execution_count": null,
   "metadata": {},
   "outputs": [],
   "source": [
    "ds = large_dataset\n",
    "idx = random.randint(0, len(ds)-1)\n",
    "img = ds[idx][0]\n",
    "gt_boxes = ds[idx][1][\"boxes\"]\n",
    "\n",
    "fig = vis_features_CAM(model, img, gt_boxes=gt_boxes, threshold=0, device=device)"
   ]
  },
  {
   "cell_type": "code",
   "execution_count": null,
   "metadata": {},
   "outputs": [],
   "source": [
    "exp = \"3_0.intermitent_cls_det_transferlr_test\"\n",
    "plot_pr_rc_curve(model, train_dataset_det, f\"EXP: {exp}  |  DS: train_dataset_det\")\n",
    "plot_pr_rc_curve(model, val_dataset_det, f\"EXP: {exp}  |  DS: val_dataset_det\")\n",
    "plot_pr_rc_curve(model, test_large_dataset, f\"EXP: {exp}  |  DS: test_large_dataset\")"
   ]
  },
  {
   "cell_type": "markdown",
   "metadata": {},
   "source": [
    "##### detection"
   ]
  },
  {
   "cell_type": "code",
   "execution_count": null,
   "metadata": {
    "id": "F2jopSu_y3gl"
   },
   "outputs": [],
   "source": [
    "model = load_chpt(model, \"/workspace8/RetinaNet/experiments/checkpoints/chpt_4_2.ft_det_scratch.pth\")"
   ]
  },
  {
   "cell_type": "code",
   "execution_count": null,
   "metadata": {},
   "outputs": [],
   "source": [
    "ds = large_dataset\n",
    "idx = random.randint(0, len(ds)-1)\n",
    "img = ds[idx][0]\n",
    "gt_boxes = ds[idx][1][\"boxes\"]\n",
    "\n",
    "fig = vis_features_CAM(model, img, gt_boxes=gt_boxes, threshold=0.1, device=device)"
   ]
  },
  {
   "cell_type": "code",
   "execution_count": null,
   "metadata": {},
   "outputs": [],
   "source": [
    "ds = large_dataset\n",
    "for idx, d in enumerate(ds):\n",
    "    img = ds[idx][0]\n",
    "    gt_boxes = ds[idx][1][\"boxes\"]\n",
    "    fig = vis_features_CAM(model, img, gt_boxes=gt_boxes, threshold=0, device=device, path=f\"reports/cls_regen_det_scratch/{idx}.jpg\")"
   ]
  },
  {
   "cell_type": "code",
   "execution_count": null,
   "metadata": {},
   "outputs": [],
   "source": [
    "exp = \"4_1.img_cls_regen_scratch\"\n",
    "plot_pr_rc_curve(model, train_dataset_det, f\"EXP: {exp}  |  DS: train_dataset_det\")\n",
    "plot_pr_rc_curve(model, val_dataset_det, f\"EXP: {exp}  |  DS: val_dataset_det\")\n",
    "plot_pr_rc_curve(model, test_large_dataset, f\"EXP: {exp}  |  DS: test_large_dataset\")"
   ]
  },
  {
   "cell_type": "markdown",
   "metadata": {},
   "source": [
    "#### transfer learning"
   ]
  },
  {
   "cell_type": "code",
   "execution_count": null,
   "metadata": {
    "id": "F2jopSu_y3gl"
   },
   "outputs": [],
   "source": [
    "model = load_chpt(model, \"/workspace8/RetinaNet/experiments/checkpoints/chpt_5_1.img_cls_regen_transferlr.pth\")"
   ]
  },
  {
   "cell_type": "code",
   "execution_count": null,
   "metadata": {},
   "outputs": [],
   "source": [
    "weight = model.head.extra_heads.image_classification_head.fc.weight"
   ]
  },
  {
   "cell_type": "code",
   "execution_count": null,
   "metadata": {},
   "outputs": [],
   "source": [
    "ds = large_dataset\n",
    "idx = random.randint(0, len(ds)-1)\n",
    "img = ds[idx][0]\n",
    "gt_boxes = ds[idx][1][\"boxes\"]\n",
    "\n",
    "fig = vis_features_CAM(model, img, gt_boxes=gt_boxes, threshold=0, device=device)"
   ]
  },
  {
   "cell_type": "markdown",
   "metadata": {},
   "source": [
    "##### detection"
   ]
  },
  {
   "cell_type": "code",
   "execution_count": null,
   "metadata": {
    "id": "F2jopSu_y3gl"
   },
   "outputs": [],
   "source": [
    "model = load_chpt(model, \"/workspace8/RetinaNet/experiments/checkpoints/chpt_5_2.ft_det_transferlr.pth\")"
   ]
  },
  {
   "cell_type": "code",
   "execution_count": null,
   "metadata": {},
   "outputs": [],
   "source": [
    "# check if the classification head is loaded correctly\n",
    "#    the classification head is requaired for CAM visualizations\n",
    "torch.all(weight == model.head.extra_heads.image_classification_head.fc.weight)"
   ]
  },
  {
   "cell_type": "code",
   "execution_count": null,
   "metadata": {},
   "outputs": [],
   "source": [
    "ds = large_dataset\n",
    "idx = random.randint(0, len(ds)-1)\n",
    "img = ds[idx][0]\n",
    "gt_boxes = ds[idx][1][\"boxes\"]\n",
    "\n",
    "fig = vis_features_CAM(model, img, gt_boxes=gt_boxes, threshold=0.0, device=device)"
   ]
  },
  {
   "cell_type": "code",
   "execution_count": null,
   "metadata": {},
   "outputs": [],
   "source": [
    "ds = large_dataset\n",
    "for idx, d in enumerate(ds):\n",
    "    img = ds[idx][0]\n",
    "    gt_boxes = ds[idx][1][\"boxes\"]\n",
    "    fig = vis_features_CAM(model, img, gt_boxes=gt_boxes, threshold=0.2, device=device, path=f\"reports/cls_regen_det_transferlr/{idx}.jpg\")"
   ]
  },
  {
   "cell_type": "code",
   "execution_count": null,
   "metadata": {},
   "outputs": [],
   "source": [
    "exp = \"4_1.img_cls_regen_scratch\"\n",
    "plot_pr_rc_curve(model, train_dataset_det, f\"EXP: {exp}  |  DS: train_dataset_det\")\n",
    "plot_pr_rc_curve(model, val_dataset_det, f\"EXP: {exp}  |  DS: val_dataset_det\")\n",
    "plot_pr_rc_curve(model, test_large_dataset, f\"EXP: {exp}  |  DS: test_large_dataset\")"
   ]
  }
 ],
 "metadata": {
  "accelerator": "GPU",
  "colab": {
   "authorship_tag": "ABX9TyOWdrMzihHbS156pET+ZDO4",
   "collapsed_sections": [],
   "name": "colab_train_resnet10.ipynb",
   "provenance": []
  },
  "kernelspec": {
   "display_name": "Python 3",
   "language": "python",
   "name": "python3"
  },
  "language_info": {
   "codemirror_mode": {
    "name": "ipython",
    "version": 3
   },
   "file_extension": ".py",
   "mimetype": "text/x-python",
   "name": "python",
   "nbconvert_exporter": "python",
   "pygments_lexer": "ipython3",
   "version": "3.6.8"
  }
 },
 "nbformat": 4,
 "nbformat_minor": 4
}
