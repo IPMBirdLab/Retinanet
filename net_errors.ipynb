{
 "cells": [
  {
   "cell_type": "code",
   "execution_count": null,
   "metadata": {},
   "outputs": [],
   "source": [
    "%config Completer.use_jedi = False"
   ]
  },
  {
   "cell_type": "code",
   "execution_count": null,
   "metadata": {},
   "outputs": [],
   "source": [
    "## generate .rst report\n",
    "!PYTHONPATH=$(pwd) python ./scripts/report.py"
   ]
  },
  {
   "cell_type": "code",
   "execution_count": null,
   "metadata": {},
   "outputs": [],
   "source": [
    "import sys\n",
    "sys.path.insert(0, \"/workspace8/video_toolkit/\")\n",
    "from VideoToolkit.tools import rescal_to_image, get_cv_resize_function\n",
    "resize_func = get_cv_resize_function()"
   ]
  },
  {
   "cell_type": "code",
   "execution_count": null,
   "metadata": {},
   "outputs": [],
   "source": [
    "import torch\n",
    "from torch import nn\n",
    "import torchvision\n",
    "import torch.nn.functional as F\n",
    "from torch.utils.data import DataLoader, SubsetRandomSampler, Subset\n",
    "\n",
    "\n",
    "from retinanet.model.detection.retinanet import retinanet_resnet50_fpn\n",
    "from retinanet.model.utils import outputs_to_logits, logits_to_preds\n",
    "\n",
    "from retinanet.datasets.bird import BirdDetection, BirdClassification\n",
    "from retinanet.datasets.transforms import *\n",
    "from retinanet.datasets.utils import TransformDatasetWrapper, train_val_split\n",
    "\n",
    "from retinanet.utils.visualizatioin import vis_features, vis_features_CAM\n",
    "\n",
    "import os\n",
    "import cv2\n",
    "import random\n",
    "import numpy as np\n",
    "import matplotlib.pyplot as plt\n",
    "\n",
    "# %matplotlib inline"
   ]
  },
  {
   "cell_type": "code",
   "execution_count": null,
   "metadata": {},
   "outputs": [],
   "source": [
    "device_str = \"cuda\" if torch.cuda.is_available() else \"cpu\"\n",
    "device = torch.device(device_str)\n",
    "print(\"Torch Using device:\", device)"
   ]
  },
  {
   "cell_type": "code",
   "execution_count": null,
   "metadata": {},
   "outputs": [],
   "source": [
    "data_log_dir = \"/workspace8/RetinaNet/experiments/dataset\"\n",
    "train_transform = Compose(\n",
    "    [\n",
    "        ToTensor(device),\n",
    "        Normalize([0.485, 0.456, 0.406], [0.229, 0.224, 0.225]),\n",
    "    ]\n",
    ")"
   ]
  },
  {
   "cell_type": "code",
   "execution_count": null,
   "metadata": {},
   "outputs": [],
   "source": [
    "train_dataset_cls = BirdClassification()\n",
    "train_dataset_cls.load(data_log_dir, file_name=\"train_cls\")\n",
    "val_dataset_cls = BirdClassification()\n",
    "val_dataset_cls.load(data_log_dir, file_name=\"validation_cls\")\n",
    "\n",
    "train_dataset_cls = TransformDatasetWrapper(train_dataset_cls, train_transform)\n",
    "val_dataset_cls = TransformDatasetWrapper(val_dataset_cls, train_transform)"
   ]
  },
  {
   "cell_type": "code",
   "execution_count": null,
   "metadata": {},
   "outputs": [],
   "source": [
    "train_dataset_det = BirdDetection()\n",
    "train_dataset_det.load(data_log_dir, file_name=\"train_detection\")\n",
    "val_dataset_det = BirdDetection()\n",
    "val_dataset_det.load(data_log_dir, file_name=\"validation_detection\")\n",
    "\n",
    "train_dataset_det = TransformDatasetWrapper(train_dataset_det, train_transform)\n",
    "val_dataset_det = TransformDatasetWrapper(val_dataset_det, train_transform)"
   ]
  },
  {
   "cell_type": "code",
   "execution_count": null,
   "metadata": {},
   "outputs": [],
   "source": [
    "data_dir = \"../dataset/abc\"\n",
    "large_dataset = BirdDetection(\n",
    "        images_dir=os.path.join(data_dir, \"JPEGImages\"),\n",
    "        annotations_dir=os.path.join(data_dir, \"Annotations\"),\n",
    "    )\n",
    "large_dataset = TransformDatasetWrapper(large_dataset, train_transform)"
   ]
  },
  {
   "cell_type": "code",
   "execution_count": null,
   "metadata": {},
   "outputs": [],
   "source": [
    "model = retinanet_resnet50_fpn(num_classes=2, pretrained=False, pretrained_backbone=False)\n",
    "\n",
    "model = model.to(device)\n",
    "model.eval()"
   ]
  },
  {
   "cell_type": "code",
   "execution_count": null,
   "metadata": {},
   "outputs": [],
   "source": [
    "def get_res(model, inp):\n",
    "    model.eval()\n",
    "    image, label = inp\n",
    "\n",
    "    losses, bb_pred, cls_pred = model([image], [label])\n",
    "\n",
    "    logit = outputs_to_logits(cls_pred)\n",
    "    pred = logits_to_preds(logit)\n",
    "    label = label[\"img_cls_labels\"]\n",
    "    \n",
    "    return logit, pred, label\n",
    "\n",
    "# def logits_to_preds(logits):\n",
    "#     return (logits > torch.min(logits)).float()\n",
    "\n",
    "def logits_to_preds(logits):\n",
    "    return (logits > 0.5).float()\n",
    "\n",
    "def get_errors(model, dataset):\n",
    "    res = []\n",
    "    for i in range(len(dataset)):\n",
    "        inp = dataset[i]\n",
    "        logits, preds, label = get_res(model, inp)\n",
    "\n",
    "        if not torch.eq(preds, label).all():\n",
    "            print(f\"\\n index: {i}\")\n",
    "            print(f\"logits: {logits}\")\n",
    "            print(f\"preds : {preds}\")\n",
    "            print(f\"label : {label}\")\n",
    "            res.append(i)\n",
    "    return res"
   ]
  },
  {
   "cell_type": "markdown",
   "metadata": {},
   "source": [
    "## Visualize Detection from scratch"
   ]
  },
  {
   "cell_type": "code",
   "execution_count": null,
   "metadata": {
    "id": "F2jopSu_y3gl"
   },
   "outputs": [],
   "source": [
    "model.load_state_dict(torch.load(\"/workspace8/RetinaNet/experiments/checkpoints/best_chpt_0_1_det_scratch.pth\"))"
   ]
  },
  {
   "cell_type": "code",
   "execution_count": null,
   "metadata": {},
   "outputs": [],
   "source": [
    "idx = random.randint(0, len(val_dataset_det)-1)\n",
    "img = val_dataset_det[idx][0]\n",
    "gt_boxes = val_dataset_det[idx][1][\"boxes\"]\n",
    "\n",
    "fig = vis_features(model, img, gt_boxes=gt_boxes, threshold=0.2, device=device)"
   ]
  },
  {
   "cell_type": "code",
   "execution_count": null,
   "metadata": {},
   "outputs": [],
   "source": [
    "ds = large_dataset\n",
    "for idx, d in enumerate(ds):\n",
    "    img = ds[idx][0]\n",
    "    gt_boxes = ds[idx][1][\"boxes\"]\n",
    "    fig = vis_features(model, img, gt_boxes=gt_boxes, threshold=0.2, device=device, path=f\"reports/det_scratch/{idx}.jpg\")"
   ]
  },
  {
   "cell_type": "markdown",
   "metadata": {},
   "source": [
    "## Visualize Detection transfer learning"
   ]
  },
  {
   "cell_type": "code",
   "execution_count": null,
   "metadata": {
    "id": "F2jopSu_y3gl"
   },
   "outputs": [],
   "source": [
    "model.load_state_dict(torch.load(\"/workspace8/RetinaNet/experiments/checkpoints/best_chpt_0_2_det_transferlr.pth\"))"
   ]
  },
  {
   "cell_type": "code",
   "execution_count": null,
   "metadata": {},
   "outputs": [],
   "source": [
    "ds = train_dataset_det\n",
    "idx = random.randint(0, len(ds)-1)\n",
    "img = ds[idx][0]\n",
    "gt_boxes = ds[idx][1][\"boxes\"]\n",
    "\n",
    "fig = vis_features(model, img, gt_boxes=gt_boxes, threshold=0.2, device=device)"
   ]
  },
  {
   "cell_type": "code",
   "execution_count": null,
   "metadata": {},
   "outputs": [],
   "source": [
    "ds = large_dataset\n",
    "for idx, d in enumerate(ds):\n",
    "    img = ds[idx][0]\n",
    "    gt_boxes = ds[idx][1][\"boxes\"]\n",
    "    fig = vis_features(model, img, gt_boxes=gt_boxes, threshold=0.2, device=device, path=f\"reports/det_transferlr/{idx}.jpg\")"
   ]
  },
  {
   "cell_type": "markdown",
   "metadata": {},
   "source": [
    "## Visualize Image Level Classifier from scratch"
   ]
  },
  {
   "cell_type": "code",
   "execution_count": null,
   "metadata": {
    "id": "F2jopSu_y3gl"
   },
   "outputs": [],
   "source": [
    "model.load_state_dict(torch.load(\"/workspace8/RetinaNet/experiments/checkpoints/best_chpt_1_1_img_cls_scratch.pth\"))"
   ]
  },
  {
   "cell_type": "code",
   "execution_count": null,
   "metadata": {
    "tags": []
   },
   "outputs": [],
   "source": [
    "err_indices = get_errors(model, train_dataset_cls)"
   ]
  },
  {
   "cell_type": "code",
   "execution_count": null,
   "metadata": {},
   "outputs": [],
   "source": [
    "len(err_indices)"
   ]
  },
  {
   "cell_type": "code",
   "execution_count": null,
   "metadata": {},
   "outputs": [],
   "source": [
    "idx = random.randint(0, len(train_dataset_cls))\n",
    "img = train_dataset_cls[idx][0]"
   ]
  },
  {
   "cell_type": "code",
   "execution_count": null,
   "metadata": {},
   "outputs": [],
   "source": [
    "idx = random.randint(0, len(err_indices))\n",
    "img = train_dataset_cls[err_indices[idx]][0]"
   ]
  },
  {
   "cell_type": "code",
   "execution_count": null,
   "metadata": {},
   "outputs": [],
   "source": [
    "fig = vis_features(model, img, threshold=0.2, device=device)"
   ]
  },
  {
   "cell_type": "code",
   "execution_count": null,
   "metadata": {},
   "outputs": [],
   "source": [
    "fig = vis_features_CAM(model, img, threshold=0.2, device=device)"
   ]
  },
  {
   "cell_type": "markdown",
   "metadata": {},
   "source": [
    "### Visualize Finetuned Detection Task (on from scratch)"
   ]
  },
  {
   "cell_type": "code",
   "execution_count": null,
   "metadata": {
    "id": "F2jopSu_y3gl"
   },
   "outputs": [],
   "source": [
    "model.load_state_dict(torch.load(\"/workspace8/RetinaNet/experiments/checkpoints/best_chpt_1_2_ft_det_scratch.pth\"))"
   ]
  },
  {
   "cell_type": "code",
   "execution_count": null,
   "metadata": {},
   "outputs": [],
   "source": [
    "idx = random.randint(0, len(val_dataset_det)-1)\n",
    "img = val_dataset_det[idx][0]\n",
    "gt_boxes = val_dataset_det[idx][1][\"boxes\"]\n",
    "\n",
    "fig = vis_features(model, img, gt_boxes=gt_boxes, threshold=0.2, device=device)"
   ]
  },
  {
   "cell_type": "code",
   "execution_count": null,
   "metadata": {},
   "outputs": [],
   "source": [
    "fig = vis_features_CAM(model, img, gt_boxes=gt_boxes, threshold=0.2, device=device)"
   ]
  },
  {
   "cell_type": "code",
   "execution_count": null,
   "metadata": {},
   "outputs": [],
   "source": [
    "ds = large_dataset\n",
    "for idx, d in enumerate(ds):\n",
    "    img = ds[idx][0]\n",
    "    gt_boxes = ds[idx][1][\"boxes\"]\n",
    "    fig = vis_features_CAM(model, img, gt_boxes=gt_boxes, threshold=0.2, device=device, path=f\"reports/ft_det_scratch/{idx}.jpg\")"
   ]
  },
  {
   "cell_type": "markdown",
   "metadata": {},
   "source": [
    "## Visualize Image Level Classifier with transfer learning"
   ]
  },
  {
   "cell_type": "code",
   "execution_count": null,
   "metadata": {
    "id": "F2jopSu_y3gl"
   },
   "outputs": [],
   "source": [
    "model.load_state_dict(torch.load(\"/workspace8/RetinaNet/experiments/checkpoints/best_chpt_avg_2_1_img_cls_transferlr.pth\"))"
   ]
  },
  {
   "cell_type": "code",
   "execution_count": null,
   "metadata": {
    "scrolled": true,
    "tags": []
   },
   "outputs": [],
   "source": [
    "err_indices = get_errors(model, train_dataset_cls)"
   ]
  },
  {
   "cell_type": "code",
   "execution_count": null,
   "metadata": {},
   "outputs": [],
   "source": [
    "idx = random.randint(0, len(train_dataset_cls))\n",
    "img = train_dataset_cls[idx][0]"
   ]
  },
  {
   "cell_type": "code",
   "execution_count": null,
   "metadata": {},
   "outputs": [],
   "source": [
    "idx = random.randint(0, len(err_indices))\n",
    "img = train_dataset_cls[12][0]"
   ]
  },
  {
   "cell_type": "code",
   "execution_count": null,
   "metadata": {},
   "outputs": [],
   "source": [
    "fig = vis_features(model, img, threshold=0.2, device=device)"
   ]
  },
  {
   "cell_type": "code",
   "execution_count": null,
   "metadata": {},
   "outputs": [],
   "source": [
    "fig = vis_features_CAM(model, img, threshold=0.2, device=device)"
   ]
  },
  {
   "cell_type": "markdown",
   "metadata": {},
   "source": [
    "### Visualize Finetuned Detection Task (on with transfer learning)"
   ]
  },
  {
   "cell_type": "code",
   "execution_count": null,
   "metadata": {
    "id": "F2jopSu_y3gl"
   },
   "outputs": [],
   "source": [
    "model.load_state_dict(torch.load(\"/workspace8/RetinaNet/experiments/checkpoints/best_chpt_2_2_ft_det_transferlr.pth\"))"
   ]
  },
  {
   "cell_type": "code",
   "execution_count": null,
   "metadata": {},
   "outputs": [],
   "source": [
    "ds = large_dataset\n",
    "idx = random.randint(0, len(ds)-1)\n",
    "img = ds[idx][0]\n",
    "gt_boxes = ds[idx][1][\"boxes\"]\n",
    "\n",
    "fig = vis_features(model, img, gt_boxes=gt_boxes, threshold=0.0, device=device)"
   ]
  },
  {
   "cell_type": "code",
   "execution_count": null,
   "metadata": {},
   "outputs": [],
   "source": [
    "fig = vis_features_CAM(model, img, gt_boxes=gt_boxes, threshold=0, device=device)"
   ]
  },
  {
   "cell_type": "code",
   "execution_count": null,
   "metadata": {},
   "outputs": [],
   "source": [
    "ds = large_dataset\n",
    "for idx, d in enumerate(ds):\n",
    "    img = ds[idx][0]\n",
    "    gt_boxes = ds[idx][1][\"boxes\"]\n",
    "    fig = vis_features_CAM(model, img, gt_boxes=gt_boxes, threshold=0, device=device, path=f\"reports/ft_det_transferlr/{idx}.jpg\")"
   ]
  },
  {
   "cell_type": "markdown",
   "metadata": {},
   "source": [
    "## Visualize intermittent training of image level cls and detection"
   ]
  },
  {
   "cell_type": "code",
   "execution_count": null,
   "metadata": {
    "id": "F2jopSu_y3gl"
   },
   "outputs": [],
   "source": [
    "model.load_state_dict(torch.load(\"/workspace8/RetinaNet/experiments/checkpoints/chpt_3_0.cls_det_scratch.pth\"))"
   ]
  },
  {
   "cell_type": "code",
   "execution_count": null,
   "metadata": {},
   "outputs": [],
   "source": [
    "ds = large_dataset\n",
    "idx = random.randint(0, len(ds)-1)\n",
    "img = ds[idx][0]\n",
    "gt_boxes = ds[idx][1][\"boxes\"]\n",
    "\n",
    "fig = vis_features(model, img, gt_boxes=gt_boxes, threshold=0.0, device=device)"
   ]
  },
  {
   "cell_type": "code",
   "execution_count": null,
   "metadata": {},
   "outputs": [],
   "source": [
    "fig = vis_features_CAM(model, img, gt_boxes=gt_boxes, threshold=0, device=device)"
   ]
  },
  {
   "cell_type": "code",
   "execution_count": null,
   "metadata": {},
   "outputs": [],
   "source": [
    "ds = large_dataset\n",
    "for idx, d in enumerate(ds):\n",
    "    img = ds[idx][0]\n",
    "    gt_boxes = ds[idx][1][\"boxes\"]\n",
    "    fig = vis_features_CAM(model, img, gt_boxes=gt_boxes, threshold=0, device=device, path=f\"reports/cls_det_scratch/{idx}.jpg\")"
   ]
  }
 ],
 "metadata": {
  "accelerator": "GPU",
  "colab": {
   "authorship_tag": "ABX9TyOWdrMzihHbS156pET+ZDO4",
   "collapsed_sections": [],
   "name": "colab_train_resnet10.ipynb",
   "provenance": []
  },
  "kernelspec": {
   "display_name": "Python 3",
   "language": "python",
   "name": "python3"
  },
  "language_info": {
   "codemirror_mode": {
    "name": "ipython",
    "version": 3
   },
   "file_extension": ".py",
   "mimetype": "text/x-python",
   "name": "python",
   "nbconvert_exporter": "python",
   "pygments_lexer": "ipython3",
   "version": "3.6.8"
  }
 },
 "nbformat": 4,
 "nbformat_minor": 4
}
